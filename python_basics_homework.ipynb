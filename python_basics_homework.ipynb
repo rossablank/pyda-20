{
 "cells": [
  {
   "cell_type": "markdown",
   "metadata": {},
   "source": [
    "# Задание 1\n",
    "Даны 2 переменных, в которх хранятся строки произвольной длины: phrase_1 и phrase_2.\n",
    "Напишите код, который проверяет какая из этих строк длиннее."
   ]
  },
  {
   "cell_type": "code",
   "execution_count": 5,
   "metadata": {},
   "outputs": [
    {
     "data": {
      "text/plain": [
       "True"
      ]
     },
     "execution_count": 5,
     "metadata": {},
     "output_type": "execute_result"
    }
   ],
   "source": [
    "len (\"Cъешь ещё этих мягких французских булок\") > len (\"да выпей чаю\")\n",
    "# len позволяет сравнивать длину строк"
   ]
  },
  {
   "cell_type": "code",
   "execution_count": 26,
   "metadata": {},
   "outputs": [
    {
     "name": "stdout",
     "output_type": "stream",
     "text": [
      "Введите первую строку: крем\n",
      "Введите вторую строку: для лица\n",
      "Первая фраза короче второй\n"
     ]
    }
   ],
   "source": [
    "\n",
    "# последнее решение \n",
    "a = input(\"Введите первую строку: \")\n",
    "b = input(\"Введите вторую строку: \")\n",
    "\n",
    "if len(a) > len(b):\n",
    "    print(\"Первая фраза длиннее второй\")\n",
    "if len(b) > len(a):\n",
    "    print(\"Первая фраза короче второй\")"
   ]
  },
  {
   "cell_type": "code",
   "execution_count": 12,
   "metadata": {},
   "outputs": [],
   "source": [
    "# phrase_1 = \"Cъешь ещё этих мягких французских булок\""
   ]
  },
  {
   "cell_type": "code",
   "execution_count": 13,
   "metadata": {},
   "outputs": [],
   "source": [
    "# phrase_2 = \"да выпей чаю\""
   ]
  },
  {
   "cell_type": "markdown",
   "metadata": {},
   "source": [
    "\n",
    "if phrase_1 > phrase_2:\n",
    "    print(\"Фраза 1 длиннее фразы 2\")\n",
    "elif phrase_1 < phrase_2:\n",
    "    print(\"Фраза 1 короче фразы 2\")\n",
    "else:\n",
    "    print(\"Фраза 1 по длине равна фразе 2\")\n",
    "\n",
    "print(\"Конец проверки\")"
   ]
  },
  {
   "cell_type": "markdown",
   "metadata": {},
   "source": [
    "phrase_1 = \"да выпей чаю\""
   ]
  },
  {
   "cell_type": "markdown",
   "metadata": {},
   "source": [
    "phrase_2 = \"Cъешь ещё этих мягких французских булок\""
   ]
  },
  {
   "cell_type": "markdown",
   "metadata": {},
   "source": [
    "if phrase_1 > phrase_2:\n",
    "    print(\"Фраза 1 длиннее фразы 2\")\n",
    "elif phrase_1 < phrase_2:\n",
    "    print(\"Фраза 1 короче фразы 2\")\n",
    "else:\n",
    "    print(\"Фраза 1 по длине равна фразе 2\")\n",
    "\n",
    "print(\"Конец проверки\")"
   ]
  },
  {
   "cell_type": "markdown",
   "metadata": {},
   "source": [
    "phrase_1 = \"Cъешь ещё этих мягких французских булок\""
   ]
  },
  {
   "cell_type": "markdown",
   "metadata": {},
   "source": [
    "phrase_2 = \"Cъешь ещё этих мягких французских булок\""
   ]
  },
  {
   "cell_type": "markdown",
   "metadata": {},
   "source": [
    "if phrase_1 > phrase_2:\n",
    "    print(\"Фраза 1 длиннее фразы 2\")\n",
    "elif phrase_1 < phrase_2:\n",
    "    print(\"Фраза 1 короче фразы 2\")\n",
    "else:\n",
    "    print(\"Фраза 1 по длине равна фразе 2\")\n",
    "\n",
    "print(\"Конец проверки\")"
   ]
  },
  {
   "cell_type": "markdown",
   "metadata": {},
   "source": [
    "# Задание 2\n",
    "Дана переменная, в которой хранится четырехзначное число (год). Необходимо написать программу, которая выведет, является ли данный год високосным или обычным."
   ]
  },
  {
   "cell_type": "markdown",
   "metadata": {},
   "source": [
    "# Второе решение"
   ]
  },
  {
   "cell_type": "code",
   "execution_count": 17,
   "metadata": {},
   "outputs": [
    {
     "name": "stdout",
     "output_type": "stream",
     "text": [
      "Введите год: 2072\n",
      "Результат: 2072 – високосный год\n"
     ]
    }
   ],
   "source": [
    "a = int(input (\"Введите год: \"))\n",
    "if (a % 4 == 0) and (a % 100 != 0) or (a % 400 == 0):\n",
    "    print(\"Результат:\", a, \"– високосный год\")\n",
    "else: \n",
    "    print(\"Результат:\", a, \"– невисокосный год\")"
   ]
  },
  {
   "cell_type": "markdown",
   "metadata": {},
   "source": [
    "# Первое решение\n",
    "a = 2132 \n",
    "if a % 4 == 0:\n",
    "    print(\"Результат:\", a, \"– високосный год\")\n",
    "else: \n",
    "    print(\"Результат:\", a, \"– невисокосный год\")"
   ]
  },
  {
   "cell_type": "markdown",
   "metadata": {},
   "source": [
    "# Задание 3\n",
    "Необходимо написать программу, которая будет запрашивать у пользователя месяц и дату рождения и выводить соответствующий знак зодиака."
   ]
  },
  {
   "cell_type": "markdown",
   "metadata": {},
   "source": [
    "# Первое решение \n",
    "\n",
    "print (\"Введите день и месяц рождения\")\n",
    "user_input1 = int (input ('Месяц рождения в формате \"12\": '))\n",
    "user_input2 = int (input ('День рождения: '))\n",
    " user_input2 = int (input ('NNNN')) – пишем так, чтобы сформировать форму ввода ответа\n",
    "\n",
    "if user_input1 == 1 and user_input2 < 19:\n",
    "    print (\"Козерог\")\n",
    "elif user_input1 == 1 and user_input2 > 19:\n",
    "    print (\"Водолей\")\n",
    "    \n",
    "elif user_input1 == 2 and user_input2 > 18:\n",
    "    print (\"Рыбы\")\n",
    "elif user_input1 == 2 and user_input2 <= 18:\n",
    "    print (\"Водолей\")\n",
    "\n",
    "elif user_input1 == 3 and user_input2 > 20:\n",
    "    print (\"Овен\")\n",
    "elif user_input1 == 3 and user_input2 <= 20:\n",
    "    print (\"Рыбы\")\n",
    "\n",
    "elif user_input1 == 4 and user_input2 > 19:\n",
    "    print (\"Телец\")\n",
    "elif user_input1 == 4 and user_input2 <= 19:\n",
    "    print (\"Овен\")\n",
    "    \n",
    "elif user_input1 == 5 and user_input2 > 21:\n",
    "    print (\"Близнецы\")\n",
    "elif user_input1 == 5 and user_input2 <= 20:\n",
    "    print (\"Телец\")    \n",
    "    \n",
    "elif user_input1 == 6 and user_input2 > 20:\n",
    "    print (\"Рак\")\n",
    "elif user_input1 == 6 and user_input2 <= 20:\n",
    "    print (\"Близнецы\")  \n",
    "    \n",
    "elif user_input1 == 7 and user_input2 > 22:\n",
    "    print (\"Лев\")\n",
    "elif user_input1 == 7 and user_input2 <= 22:\n",
    "    print (\"Рак\")      \n",
    "    \n",
    "elif user_input1 == 8 and user_input2 > 22:\n",
    "    print (\"Дева\")\n",
    "elif user_input1 == 8 and user_input2 <= 22:\n",
    "    print (\"Лев\")      \n",
    "    \n",
    "elif user_input1 == 9 and user_input2 > 22:\n",
    "    print (\"Весы\")\n",
    "elif user_input1 == 9 and user_input2 <= 22:\n",
    "    print (\"Дева\")      \n",
    "       \n",
    "elif user_input1 == 10 and user_input2 > 22:\n",
    "    print (\"Скорпион\")\n",
    "elif user_input1 == 10 and user_input2 <= 22:\n",
    "    print (\"Весы\")     \n",
    "    \n",
    "elif user_input1 == 11 and user_input2 > 21:\n",
    "    print (\"Стрелец\")\n",
    "elif user_input1 == 11 and user_input2 <= 21:\n",
    "    print (\"Скорпион\")    \n",
    "\n",
    "elif user_input1 == 12 and user_input2 > 21:\n",
    "    print (\"Козерог\")\n",
    "elif user_input1 == 12 and user_input2 <= 21:\n",
    "    print (\"Стрелец\")      \n",
    "    \n",
    "else:\n",
    "    print (\"Ошибка\")\n",
    "print (\"Конец программы\")"
   ]
  },
  {
   "cell_type": "markdown",
   "metadata": {},
   "source": [
    "# Второе решение"
   ]
  },
  {
   "cell_type": "code",
   "execution_count": 1,
   "metadata": {},
   "outputs": [
    {
     "name": "stdout",
     "output_type": "stream",
     "text": [
      "Введите день и месяц рождения\n",
      "Месяц рождения в формате \"12\": 3\n",
      "День рождения: 27\n",
      "Овен\n",
      "Конец программы\n"
     ]
    }
   ],
   "source": [
    "print (\"Введите день и месяц рождения\")\n",
    "user_input1 = int (input ('Месяц рождения в формате \"12\": '))\n",
    "user_input2 = int (input ('День рождения: '))\n",
    "\n",
    "if user_input1 == 1 and user_input2 < 19 or user_input1 == 12 and user_input2 > 21:\n",
    "    print (\"Козерог\")\n",
    "elif user_input1 == 1 and user_input2 > 19 or user_input1 == 2 and user_input2 <= 18:\n",
    "    print (\"Водолей\")\n",
    "    \n",
    "elif user_input1 == 2 and user_input2 > 18 or user_input1 == 3 and user_input2 <= 20:\n",
    "    print (\"Рыбы\")\n",
    "\n",
    "elif user_input1 == 3 and user_input2 > 20 or user_input1 == 4 and user_input2 <= 19:\n",
    "    print (\"Овен\")\n",
    "\n",
    "elif user_input1 == 4 and user_input2 > 19 or user_input1 == 5 and user_input2 <= 20:\n",
    "    print (\"Телец\")\n",
    "    \n",
    "elif user_input1 == 5 and user_input2 > 21 or user_input1 == 6 and user_input2 <= 20:\n",
    "    print (\"Близнецы\")\n",
    "    \n",
    "elif user_input1 == 6 and user_input2 > 20 or user_input1 == 7 and user_input2 <= 22:\n",
    "    print (\"Рак\")\n",
    "    \n",
    "elif user_input1 == 7 and user_input2 > 22 or user_input1 == 8 and user_input2 <= 22:\n",
    "    print (\"Лев\")\n",
    "    \n",
    "elif user_input1 == 8 and user_input2 > 22 or user_input1 == 9 and user_input2 <= 22:\n",
    "    print (\"Дева\")   \n",
    "    \n",
    "elif user_input1 == 9 and user_input2 > 22 or user_input1 == 10 and user_input2 <= 22:\n",
    "    print (\"Весы\")\n",
    "         \n",
    "elif user_input1 == 10 and user_input2 > 22 or user_input1 == 11 and user_input2 <= 21:\n",
    "    print (\"Скорпион\")\n",
    "    \n",
    "elif user_input1 == 11 and user_input2 > 21 or user_input1 == 12 and user_input2 <= 21:\n",
    "    print (\"Стрелец\")    \n",
    "    \n",
    "else:\n",
    "    print (\"Ошибка\")\n",
    "print (\"Конец программы\")"
   ]
  },
  {
   "cell_type": "markdown",
   "metadata": {},
   "source": [
    "# Задание 4\n",
    "Вам нужно написать программу для подбора упаковок по размерам товара. Размеры хранятся в переменных (в сантиметрах).\n",
    "\n",
    "Используйте следующие правила:\n",
    "\n",
    "- если каждое из трех измерений менее 15 сантиметров, то выведите на экран “Коробка №1”;\n",
    "- если хотя бы одно из измерений больше 15 сантиметров, но менее 50 сантиметров, то выводите “Коробка №2”;\n",
    "- если длина товара больше 2 метров, то выводите “Упаковка для лыж”;\n",
    "- во всех остальных случаях выводите “Стандартная коробка №3”."
   ]
  },
  {
   "cell_type": "code",
   "execution_count": 11,
   "metadata": {},
   "outputs": [
    {
     "name": "stdout",
     "output_type": "stream",
     "text": [
      "Коробка №1\n"
     ]
    }
   ],
   "source": [
    "w = 10\n",
    "l = 14\n",
    "h = 5\n",
    "\n",
    "if w < 15 and l < 15 and h < 15:\n",
    "    print(\"Коробка №1\")\n",
    "\n",
    "elif l > 200:\n",
    "    print(\"Упаковка для лыж\")\n",
    "    \n",
    "elif 15 < w > 50 or 15 < l > 50 or 15 < h > 50:\n",
    "    print(\"Коробка №2\")    \n",
    "        \n",
    "else:\n",
    "    print(\"Стандартная коробка №3\")"
   ]
  },
  {
   "cell_type": "markdown",
   "metadata": {},
   "source": [
    "# Задание 5 (необязательное)\n",
    "Дана переменная, в которой хранится шестизначное число (номер проездного билета). Напишите программу, которая будет определять, является ли данный билет “счастливым”. Билет считается счастливым, если сумма первых трех цифр совпадает с суммой последних трех цифр номера."
   ]
  },
  {
   "cell_type": "code",
   "execution_count": 7,
   "metadata": {},
   "outputs": [
    {
     "name": "stdout",
     "output_type": "stream",
     "text": [
      "Введите номер проездного билета: 123456\n",
      "Обычный билет\n"
     ]
    }
   ],
   "source": [
    "a = input (\"Введите номер проездного билета: \")\n",
    "\n",
    "b = int(a[0])+int(a[1])+int(a[2]) \n",
    "c = int(a[3])+int(a[4])+int(a[5])\n",
    "\n",
    "# так можно выделить 1 цифру из большого числа. Начинать с 0, а не с 1?  \n",
    "\n",
    "if b == c:\n",
    "    print(\"Счастливый билет\")\n",
    "\n",
    "else:\n",
    "    print(\"Обычный билет\")"
   ]
  },
  {
   "cell_type": "markdown",
   "metadata": {},
   "source": [
    "# Задание 6 (необязательное)\n",
    "Напишите программу, которая сможет вычислять площади трех фигур (круг, треугольник и прямоугольник). Тип фигуры запрашиваем через пользовательский ввод, после чего делаем запрос характеристик фигуры:\n",
    "\n",
    "- если пользователь выбрал круг, запрашиваем его радиус,\n",
    "- если треугольник – длины трех его сторон;\n",
    "- если прямоугольник – длины двух его сторон.\n",
    "\n"
   ]
  },
  {
   "cell_type": "code",
   "execution_count": 3,
   "metadata": {},
   "outputs": [
    {
     "ename": "SyntaxError",
     "evalue": "invalid syntax (<ipython-input-3-5f738ee82901>, line 3)",
     "output_type": "error",
     "traceback": [
      "\u001b[0;36m  File \u001b[0;32m\"<ipython-input-3-5f738ee82901>\"\u001b[0;36m, line \u001b[0;32m3\u001b[0m\n\u001b[0;31m    if a = Круг or круг:\u001b[0m\n\u001b[0m         ^\u001b[0m\n\u001b[0;31mSyntaxError\u001b[0m\u001b[0;31m:\u001b[0m invalid syntax\n"
     ]
    }
   ],
   "source": [
    "a = input (\"Введите тип фигуры, площадь которй нужно вычислить: \")\n",
    "\n",
    "if a = Круг or круг:\n",
    "    \n",
    "    radius = input (\"Введите радиус круга: \")\n",
    "\n",
    "else:\n",
    "    print(\"Нужно выбрать одну из этих фигур: круг, треугольник, прямоугольник\")"
   ]
  }
 ],
 "metadata": {
  "kernelspec": {
   "display_name": "Python 3",
   "language": "python",
   "name": "python3"
  },
  "language_info": {
   "codemirror_mode": {
    "name": "ipython",
    "version": 3
   },
   "file_extension": ".py",
   "mimetype": "text/x-python",
   "name": "python",
   "nbconvert_exporter": "python",
   "pygments_lexer": "ipython3",
   "version": "3.8.5"
  }
 },
 "nbformat": 4,
 "nbformat_minor": 4
}
